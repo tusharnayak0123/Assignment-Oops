{
  "nbformat": 4,
  "nbformat_minor": 0,
  "metadata": {
    "colab": {
      "provenance": []
    },
    "kernelspec": {
      "name": "python3",
      "display_name": "Python 3"
    },
    "language_info": {
      "name": "python"
    }
  },
  "cells": [
    {
      "cell_type": "markdown",
      "source": [
        "# Theory Question"
      ],
      "metadata": {
        "id": "li6LZgLm2UDB"
      }
    },
    {
      "cell_type": "markdown",
      "source": [
        "1. What is Object-Oriented Programming (OOP) ?\n",
        "- Object-Oriented Programming (OOP) is a programming paradigm based on the concept of objects, which encapsulate both data (attributes) and behavior (methods). It helps in designing modular, reusable, and scalable code.\n"
      ],
      "metadata": {
        "id": "gEHND2co2kme"
      }
    },
    {
      "cell_type": "markdown",
      "source": [
        "2. What is a class in OOP ?\n",
        "- A class in Object-Oriented Programming (OOP) is a blueprint or template for creating objects. It defines the properties (attributes) and behaviors (methods) that the objects created from it will have."
      ],
      "metadata": {
        "id": "_qXu2n-82lQy"
      }
    },
    {
      "cell_type": "markdown",
      "source": [
        "3. What is an object in OOP ?\n",
        "- An object is an instance of a class. It is a real-world entity that has state (attributes) and behavior (methods). Objects are created using a class and hold their own unique data while sharing the same structure and behavior defined by the class.\n",
        "\n"
      ],
      "metadata": {
        "id": "ulX66XgM2lhd"
      }
    },
    {
      "cell_type": "markdown",
      "source": [
        "4. What is the difference between abstraction and encapsulation?\n",
        "- \tAbstraction\n",
        "    - Hiding implementation details and showing only essential features.\n",
        "    - Focuses on hiding complexity to make code easier to use.\n",
        "    - Example:\tA car’s steering and pedals allow driving without knowing the internal mechanism.\n",
        "- Encapsulation\n",
        "  - Wrapping data and methods together to protect them from outside access.\n",
        "  -    Focuses on restricting direct access to data to ensure security.\n",
        "  - Example: The engine of a car is hidden inside the hood, preventing direct modification."
      ],
      "metadata": {
        "id": "Gch18qsX3VFh"
      }
    },
    {
      "cell_type": "markdown",
      "source": [
        "\n",
        "5. What are dunder methods in Python?\n",
        "- Dunder (short for \"double underscore\") methods, also known as magic methods or special methods, are built-in methods in Python that start and end with double underscores (e.g., __init__, __str__).\n",
        "\n",
        "- These methods allow customization of class behavior, enabling features like object creation, string representation, operator overloading, and more."
      ],
      "metadata": {
        "id": "tXDSu9j93VWR"
      }
    },
    {
      "cell_type": "markdown",
      "source": [
        "6. Explain the concept of inheritance in OOP?\n",
        "- Inheritance is an Object-Oriented Programming (OOP) concept that allows one class (child class) to acquire the properties and methods of another class (parent class). This promotes code reusability, modularity, and hierarchy in class structure.\n"
      ],
      "metadata": {
        "id": "w_wqTu1353Rf"
      }
    },
    {
      "cell_type": "markdown",
      "source": [
        "7. What is polymorphism in OOP?\n",
        "- Polymorphism in Object-Oriented Programming (OOP) refers to the ability of different objects to be treated as instances of the same class through a common interface. It allows one function, method, or operator to have different behaviors based on the object it acts upon."
      ],
      "metadata": {
        "id": "Tfl_pp4z53is"
      }
    },
    {
      "cell_type": "markdown",
      "source": [
        "8. How is encapsulation achieved in Python?\n",
        "- Encapsulation is an Object-Oriented Programming (OOP) concept that restricts direct access to an object's data and methods, ensuring data security and integrity. It is achieved in Python using access modifiers:\n",
        "\n",
        "- Public Attributes (var) → Accessible from anywhere.\n",
        "- Protected Attributes (_var) → Should be accessed only within the class or subclasses.\n",
        "- Private Attributes (__var) → Cannot be accessed directly outside the class."
      ],
      "metadata": {
        "id": "6Nsn1XwP531G"
      }
    },
    {
      "cell_type": "markdown",
      "source": [
        "9. What is a constructor in Python?\n",
        "- In Python, a constructor is a special method used to initialize objects when a class is instantiated. The constructor method is named __init__() and is called automatically when a new object of the class is created.\n",
        "\n"
      ],
      "metadata": {
        "id": "ldk_RWQj53a-"
      }
    },
    {
      "cell_type": "markdown",
      "source": [
        "\n",
        "10. What are class and static methods in Python?\n",
        "- A class method operates on the class level rather than an instance. It takes the class itself (cls) as the first argument and can modify class-level attributes.\n",
        "- A static method does not access or modify class/instance attributes. It behaves like a normal function but belongs to a class."
      ],
      "metadata": {
        "id": "aTF_jAAH53rV"
      }
    },
    {
      "cell_type": "markdown",
      "source": [
        "11. What is method overloading in Python?\n",
        "- Method overloading allows multiple methods in the same class to have the same name but different arguments (different number or types of parameters).\n",
        "\n",
        "- However, Python does not support method overloading in the traditional way like Java or C++, where multiple methods with the same name but different parameters are explicitly allowed. Instead, Python achieves method overloading using default arguments, *args, and **kwargs."
      ],
      "metadata": {
        "id": "t3aYyjDq53-y"
      }
    },
    {
      "cell_type": "markdown",
      "source": [
        "\n",
        "12. What is method overriding in OOP?\n",
        "- Method Overriding is a feature in Object-Oriented Programming (OOP) where a subclass provides a specific implementation of a method that is already defined in its parent class.\n",
        "\n",
        "- The method in the child class should have the same name, parameters, and return type as the method in the parent class.\n",
        "It is used to provide custom behavior for the child class while maintaining the method signature of the parent class."
      ],
      "metadata": {
        "id": "bHOGJAXp6pTn"
      }
    },
    {
      "cell_type": "markdown",
      "source": [
        "13. What is a property decorator in Python?\n",
        "- The property decorator (@property) in Python allows you to define getter, setter, and deleter methods for class attributes while treating them as regular attributes. This helps implement encapsulation by controlling attribute access.\n",
        "\n"
      ],
      "metadata": {
        "id": "u3dHRHjV6pB3"
      }
    },
    {
      "cell_type": "markdown",
      "source": [
        "14. Why is polymorphism important in OOP?\n",
        "- Polymorphism is one of the four pillars of Object-Oriented Programming (OOP) (along with Encapsulation, Inheritance, and Abstraction). It allows objects of different classes to be treated as instances of the same class, making code more flexible, scalable, and maintainable."
      ],
      "metadata": {
        "id": "-BUO9TRt6ouH"
      }
    },
    {
      "cell_type": "markdown",
      "source": [
        "15. What is an abstract class in Python?\n",
        "- An abstract class in Python is a class that cannot be instantiated and serves as a blueprint for other classes. It is used to enforce the structure of derived (child) classes by defining abstract methods that must be implemented in subclasses.\n",
        "\n",
        "- Python provides abstract classes through the abc (Abstract Base Class) module."
      ],
      "metadata": {
        "id": "c6eZJI1l6ojt"
      }
    },
    {
      "cell_type": "markdown",
      "source": [
        "16. What are the advantages of OOP?\n",
        "- Advantages of OOP (Object-Oriented Programming)\n",
        "  - Modularity & Reusability – Code is organized into reusable classes and objects.\n",
        "  - Encapsulation – Data hiding ensures security and controlled access.\n",
        "  - Inheritance – Enables code reuse by allowing child classes to inherit from parent classes.\n",
        "  - Polymorphism – Allows flexibility by enabling methods with the same name to behave differently.\n",
        "  - Abstraction – Hides implementation details, exposing only necessary functionality.\n",
        "  - Easy Maintenance & Debugging – Structured code makes fixing issues simpler.\n",
        "  - Real-World Representation – Models real-world entities effectively.\n",
        "  - Scalability – Supports growth by easily adding new features and classes.\n",
        "\n",
        "\n",
        "\n"
      ],
      "metadata": {
        "id": "cVxCV2fW6n-1"
      }
    },
    {
      "cell_type": "markdown",
      "source": [
        "17. What is the difference between a class variable and an instance variable?\n",
        "- Class Variable\n",
        "  - A variable shared across all instances of a class.\n",
        "  - Shared by all objects of the class.\n",
        "  - Changing the value affects all instances.\n",
        "- \tInstance Variable\n",
        "  - A variable unique to each instance (object) of a class.\n",
        "  -  Defined inside the __init__() method using self."
      ],
      "metadata": {
        "id": "HdZ4aNhM9C7t"
      }
    },
    {
      "cell_type": "markdown",
      "source": [
        "18. What is multiple inheritance in Python?\n",
        "- Multiple inheritance is a feature in Python where a class can inherit from more than one parent class. This allows a child class to acquire attributes and methods from multiple parent classes."
      ],
      "metadata": {
        "id": "P6ht2-yG9DPW"
      }
    },
    {
      "cell_type": "markdown",
      "source": [
        "19. Explain the purpose of ‘’__str__’ and ‘__repr__’ ‘ methods in Python?\n",
        "- __str__() (User-Friendly Representation)\n",
        "- Used to return a human-readable (informal) string representation of an object.\n",
        "-Called by the str() function or print().\n",
        "-Meant for end-users to understand.\n",
        "\n",
        "- __repr__() (Developer-Friendly Representation)\n",
        "-Used to return a formal and unambiguous string representation.\n",
        "- Called by repr() and is useful for debugging.\n",
        "- Meant for developers and should ideally return a string that can be used to recreate the object."
      ],
      "metadata": {
        "id": "Njb_-K0O9CGC"
      }
    },
    {
      "cell_type": "markdown",
      "source": [
        "20. What is the significance of the ‘super()’ function in Python?\n",
        "-  super() is useful in inheritance to access parent class methods efficiently.\n",
        "- It reduces redundancy and ensures that parent class methods are correctly called.\n",
        "- It follows Method Resolution Order (MRO) in multiple inheritance to resolve ambiguities."
      ],
      "metadata": {
        "id": "cYb7Hf409CZa"
      }
    },
    {
      "cell_type": "markdown",
      "source": [
        "\n",
        "21. What is the significance of the __del__ method in Python?\n",
        "- The __del__ method in Python is a special method, also known as the destructor, which is called when an object is about to be destroyed. It is used to clean up resources such as closing files, releasing memory, or disconnecting from a database before an object is deleted.\n",
        "\n"
      ],
      "metadata": {
        "id": "keCl2KVa9Bvv"
      }
    },
    {
      "cell_type": "markdown",
      "source": [
        "22. What is the difference between @staticmethod and @classmethod in Python?\n",
        "-  @staticmethod (Static Method)\n",
        "  - Does not access class or instance attributes\n",
        "  - Works like a regular function but inside a class\n",
        "  - Does not take self or cls as the first argument\n",
        "  -  Used when a method performs a utility task related to the class\n",
        "-@classmethod (Class Method)\n",
        "  - Takes cls as the first parameter\n",
        "  - Can modify class variables but not instance variables\n",
        "  - Used for factory methods and modifying class-level data"
      ],
      "metadata": {
        "id": "mP_YIEks9BJ3"
      }
    },
    {
      "cell_type": "markdown",
      "source": [
        "23. How does polymorphism work in Python with inheritance?\n",
        "- Polymorphism is a key concept in Object-Oriented Programming (OOP) that allows a single interface to be used for different types. In Python, polymorphism with inheritance means that a child class can provide a different implementation of a method that is already defined in its parent class.\n",
        "- Method Overriding: A child class provides a specific implementation of a method that exists in the parent class.\n",
        "- Method Overloading (Not Built-in in Python): Python does not support traditional method overloading, but we can achieve similar behavior using default arguments or *args and **kwargs.\n",
        "- Operator Overloading: Using special methods like __add__, __sub__, etc.\n",
        "\n"
      ],
      "metadata": {
        "id": "6vJHnyyk_GlG"
      }
    },
    {
      "cell_type": "markdown",
      "source": [
        "\n",
        "24. What is method chaining in Python OOP?\n",
        "- Method chaining is a technique in Object-Oriented Programming (OOP) where multiple methods are called on the same object in a single line. This is done by making each method return self (the current instance), allowing the next method to be called directly."
      ],
      "metadata": {
        "id": "Ng74cJen_GEi"
      }
    },
    {
      "cell_type": "markdown",
      "source": [
        "25. What is the purpose of the __call__ method in Python?\n",
        "- The __call__ method in Python allows an instance of a class to be called like a function. When an object has a __call__ method, calling the object directly (object()) invokes this method.\n",
        "- It Makes Objects Behave Like Functions –Allows instances to be used in place of functions.\n",
        "-  Useful for Function Wrapping – Often used in decorators.\n",
        "- Improves Code Readability – Eliminates the need for explicitly defining separate methods.\n"
      ],
      "metadata": {
        "id": "9uCd1ZkT_Ff-"
      }
    },
    {
      "cell_type": "markdown",
      "source": [
        "#Practical Question"
      ],
      "metadata": {
        "id": "P99NqvsT5gCI"
      }
    },
    {
      "cell_type": "code",
      "source": [
        " #Q1.Create a parent class Animal with a method speak() that prints a generic message.\n",
        " # Create a child class Dog that overrides the speak() method to print \"Bark!\".\n",
        "\n",
        "class Animal:\n",
        "    def speak(self):\n",
        "        print(\"Animal makes a sound\")\n",
        "\n",
        "class Dog(Animal):\n",
        "    def speak(self):\n",
        "        print(\"Bark!\")\n",
        "\n",
        "animal = Animal()\n",
        "dog = Dog()\n",
        "\n",
        "\n",
        "animal.speak()\n",
        "dog.speak()"
      ],
      "metadata": {
        "colab": {
          "base_uri": "https://localhost:8080/"
        },
        "id": "v97JptRO50HB",
        "outputId": "0f712c49-5057-49cf-f189-6ed3c0f5c9ec"
      },
      "execution_count": 1,
      "outputs": [
        {
          "output_type": "stream",
          "name": "stdout",
          "text": [
            "Animal makes a sound\n",
            "Bark!\n"
          ]
        }
      ]
    },
    {
      "cell_type": "code",
      "source": [
        "#Q2. Write a program to create an abstract class Shape with a method area().\n",
        "#Derive classes Circle and Rectangle from it and implement the area() method in both.\n",
        "\n",
        "from abc import ABC, abstractmethod\n",
        "import math\n",
        "\n",
        "class Shape(ABC):\n",
        "    @abstractmethod\n",
        "    def area(self):\n",
        "        pass\n",
        "\n",
        "class Circle(Shape):\n",
        "    def __init__(self, radius):\n",
        "        self.radius = radius\n",
        "\n",
        "    def area(self):\n",
        "        return math.pi * self.radius ** 2\n",
        "\n",
        "class Rectangle(Shape):\n",
        "    def __init__(self, length, width):\n",
        "        self.length = length\n",
        "        self.width = width\n",
        "\n",
        "    def area(self):\n",
        "        return self.length * self.width\n",
        "\n",
        "circle = Circle(5)\n",
        "rectangle = Rectangle(4, 6)\n",
        "\n",
        "print(f\"Circle Area: {circle.area():.2f}\")\n",
        "print(f\"Rectangle Area: {rectangle.area()}\")\n"
      ],
      "metadata": {
        "colab": {
          "base_uri": "https://localhost:8080/"
        },
        "id": "IjK7G5x350Xj",
        "outputId": "ede4be99-b827-411c-d98a-6703307d4312"
      },
      "execution_count": 2,
      "outputs": [
        {
          "output_type": "stream",
          "name": "stdout",
          "text": [
            "Circle Area: 78.54\n",
            "Rectangle Area: 24\n"
          ]
        }
      ]
    },
    {
      "cell_type": "code",
      "source": [
        "#Q3. Implement a multi-level inheritance scenario where a class Vehicle has an attribute type.\n",
        "# Derive a class Car and further derive a class ElectricCar that adds a battery attribute.\n",
        "\n",
        "\n",
        "class Vehicle:\n",
        "    def __init__(self, vehicle_type):\n",
        "        self.vehicle_type = vehicle_type\n",
        "\n",
        "    def display_type(self):\n",
        "        print(f\"Vehicle Type: {self.vehicle_type}\")\n",
        "\n",
        "\n",
        "class Car(Vehicle):\n",
        "    def __init__(self, brand, model, vehicle_type=\"Car\"):\n",
        "        super().__init__(vehicle_type)\n",
        "        self.brand = brand\n",
        "        self.model = model\n",
        "\n",
        "    def display_info(self):\n",
        "        print(f\"Brand: {self.brand}, Model: {self.model}\")\n",
        "\n",
        "\n",
        "class ElectricCar(Car):\n",
        "    def __init__(self, brand, model, battery_capacity):\n",
        "        super().__init__(brand, model)\n",
        "        self.battery_capacity = battery_capacity\n",
        "\n",
        "    def display_battery(self):\n",
        "        print(f\"Battery Capacity: {self.battery_capacity} kWh\")\n",
        "\n",
        "\n",
        "tesla = ElectricCar(\"Tesla\", \"Model S\", 100)\n",
        "\n",
        "\n",
        "tesla.display_type()     # Inherited from Vehicle\n",
        "tesla.display_info()     # Inherited from Car\n",
        "tesla.display_battery()  # Defined in ElectricCar\n",
        "\n"
      ],
      "metadata": {
        "colab": {
          "base_uri": "https://localhost:8080/"
        },
        "id": "8iALeXuX50es",
        "outputId": "8a96064c-0c3d-4161-e28d-03d75d063ad6"
      },
      "execution_count": 3,
      "outputs": [
        {
          "output_type": "stream",
          "name": "stdout",
          "text": [
            "Vehicle Type: Car\n",
            "Brand: Tesla, Model: Model S\n",
            "Battery Capacity: 100 kWh\n"
          ]
        }
      ]
    },
    {
      "cell_type": "code",
      "source": [
        "\n",
        "#Q4. Demonstrate polymorphism by creating a base class Bird with a method fly().\n",
        "#Create two derived classes Sparrow and Penguin that override the fly() method.\n",
        "\n",
        "# Base class\n",
        "class Bird:\n",
        "    def fly(self):\n",
        "        print(\"Some birds can fly.\")\n",
        "\n",
        "# Derived class 1\n",
        "class Sparrow(Bird):\n",
        "    def fly(self):\n",
        "        print(\"Sparrow flies high in the sky!\")\n",
        "\n",
        "# Derived class 2\n",
        "class Penguin(Bird):\n",
        "    def fly(self):\n",
        "        print(\"Penguins cannot fly, they swim instead!\")\n",
        "\n",
        "# Creating objects\n",
        "birds = [Sparrow(), Penguin(), Bird()]\n",
        "\n",
        "# Demonstrating polymorphism\n",
        "for bird in birds:\n",
        "    bird.fly()\n"
      ],
      "metadata": {
        "colab": {
          "base_uri": "https://localhost:8080/"
        },
        "id": "RjYsvkt550qz",
        "outputId": "cfe87fa3-bb0a-468a-9e04-41dabd67a342"
      },
      "execution_count": 4,
      "outputs": [
        {
          "output_type": "stream",
          "name": "stdout",
          "text": [
            "Sparrow flies high in the sky!\n",
            "Penguins cannot fly, they swim instead!\n",
            "Some birds can fly.\n"
          ]
        }
      ]
    },
    {
      "cell_type": "code",
      "source": [
        "#Q5. Write a program to demonstrate encapsulation by creating a class BankAccount\n",
        "#with private attributes balance and methods to deposit, withdraw, and check balance.\n",
        "\n",
        "class BankAccount:\n",
        "    def __init__(self, account_holder, balance=0):\n",
        "        self.account_holder = account_holder\n",
        "        self.__balance = balance\n",
        "\n",
        "\n",
        "    def deposit(self, amount):\n",
        "        if amount > 0:\n",
        "            self.__balance += amount\n",
        "            print(f\"₹{amount} deposited successfully!\")\n",
        "        else:\n",
        "            print(\"Deposit amount must be positive.\")\n",
        "\n",
        "\n",
        "    def withdraw(self, amount):\n",
        "        if 0 < amount <= self.__balance:\n",
        "            self.__balance -= amount\n",
        "            print(f\"₹{amount} withdrawn successfully!\")\n",
        "        else:\n",
        "            print(\"Insufficient balance or invalid amount.\")\n",
        "\n",
        "\n",
        "    def check_balance(self):\n",
        "        print(f\"Available balance: ₹{self.__balance}\")\n",
        "\n",
        "\n",
        "account = BankAccount(\"John Doe\", 5000)\n",
        "\n",
        "# Performing transactions\n",
        "account.check_balance()\n",
        "account.deposit(2000)\n",
        "account.withdraw(3000)\n",
        "account.check_balance()\n",
        "\n"
      ],
      "metadata": {
        "colab": {
          "base_uri": "https://localhost:8080/"
        },
        "id": "3yCBLhnD51BJ",
        "outputId": "8fe24691-a7ba-44c8-da0f-14e360aa214a"
      },
      "execution_count": 5,
      "outputs": [
        {
          "output_type": "stream",
          "name": "stdout",
          "text": [
            "Available balance: ₹5000\n",
            "₹2000 deposited successfully!\n",
            "₹3000 withdrawn successfully!\n",
            "Available balance: ₹4000\n"
          ]
        }
      ]
    },
    {
      "cell_type": "code",
      "source": [
        "#Q6. Demonstrate runtime polymorphism using a method play() in a base class Instrument.\n",
        "# Derive classes Guitar and Piano that implement their own version of play().\n",
        "\n",
        "# Base class\n",
        "class Instrument:\n",
        "    def play(self):\n",
        "        print(\"Playing an instrument...\")\n",
        "\n",
        "# Derived class: Guitar\n",
        "class Guitar(Instrument):\n",
        "    def play(self):\n",
        "        print(\"Strumming the guitar!\")\n",
        "\n",
        "# Derived class: Piano\n",
        "class Piano(Instrument):\n",
        "    def play(self):\n",
        "        print(\"Playing the piano keys!\")\n",
        "\n",
        "# Function demonstrating runtime polymorphism\n",
        "def play_instrument(instrument):\n",
        "    instrument.play()\n",
        "\n",
        "guitar = Guitar()\n",
        "piano = Piano()\n",
        "instrument = Instrument()\n",
        "\n",
        "# Calling the method using polymorphism\n",
        "play_instrument(guitar)\n",
        "play_instrument(piano)\n",
        "play_instrument(instrument)\n"
      ],
      "metadata": {
        "colab": {
          "base_uri": "https://localhost:8080/"
        },
        "id": "QVTEmsFO51IA",
        "outputId": "d141658e-bc09-48d4-912b-46e50f0e4315"
      },
      "execution_count": 6,
      "outputs": [
        {
          "output_type": "stream",
          "name": "stdout",
          "text": [
            "Strumming the guitar!\n",
            "Playing the piano keys!\n",
            "Playing an instrument...\n"
          ]
        }
      ]
    },
    {
      "cell_type": "code",
      "source": [
        "\n",
        "#Q7. Create a class MathOperations with a class method add_numbers() to add two numbers\n",
        "#and a static method subtract_numbers() to subtract two numbers.\n",
        "\n",
        "class MathOperations:\n",
        "    @classmethod\n",
        "    def add_numbers(cls, a, b):\n",
        "        return a + b\n",
        "    @staticmethod\n",
        "    def subtract_numbers(a, b):\n",
        "        return a - b\n",
        "# Calling class and static methods\n",
        "print(f\"Addition: {MathOperations.add_numbers(10, 5)}\")\n",
        "print(f\"Subtraction: {MathOperations.subtract_numbers(10, 5)}\")\n"
      ],
      "metadata": {
        "colab": {
          "base_uri": "https://localhost:8080/"
        },
        "id": "UkGeEF9N51NJ",
        "outputId": "e685b019-9b8d-4c5b-fcd9-9fb94414b8a8"
      },
      "execution_count": 8,
      "outputs": [
        {
          "output_type": "stream",
          "name": "stdout",
          "text": [
            "Addition: 15\n",
            "Subtraction: 5\n"
          ]
        }
      ]
    },
    {
      "cell_type": "code",
      "source": [
        "#Q8. Implement a class Person with a class method to count the total number of persons created.\n",
        "\n",
        "class Person:\n",
        "    count = 0\n",
        "\n",
        "    def __init__(self, name):\n",
        "        self.name = name\n",
        "        Person.count += 1\n",
        "    @classmethod\n",
        "    def get_person_count(cls):\n",
        "        return f\"Total persons created: {cls.count}\"\n",
        "\n",
        "# Creating Person objects\n",
        "p1 = Person(\"Alice\")\n",
        "p2 = Person(\"Bob\")\n",
        "p3 = Person(\"Charlie\")\n",
        "\n",
        "# Getting the total number of persons created\n",
        "print(Person.get_person_count())"
      ],
      "metadata": {
        "colab": {
          "base_uri": "https://localhost:8080/"
        },
        "id": "RChQUdSS51Sq",
        "outputId": "0659c310-22df-41c2-dd28-b78122871b3e"
      },
      "execution_count": 9,
      "outputs": [
        {
          "output_type": "stream",
          "name": "stdout",
          "text": [
            "Total persons created: 3\n"
          ]
        }
      ]
    },
    {
      "cell_type": "code",
      "source": [
        "#Q9. Write a class Fraction with attributes numerator and denominator.\n",
        "#Override the str method to display the fraction as \"numerator/denominator\".\n",
        "\n",
        "class Fraction:\n",
        "    def __init__(self, numerator, denominator):\n",
        "        if denominator == 0:\n",
        "            raise ValueError(\"Denominator cannot be zero.\")\n",
        "        self.numerator = numerator\n",
        "        self.denominator = denominator\n",
        "\n",
        "    def __str__(self):\n",
        "        return f\"{self.numerator}/{self.denominator}\"\n",
        "# Creating Fraction objects\n",
        "f1 = Fraction(3, 4)\n",
        "f2 = Fraction(5, 8)\n",
        "\n",
        "# Displaying fractions\n",
        "print(f1)\n",
        "print(f2)\n"
      ],
      "metadata": {
        "colab": {
          "base_uri": "https://localhost:8080/"
        },
        "id": "zzMkqz7L51YV",
        "outputId": "f0ab835d-fbfd-4bbd-f7e2-a414c4f5fad1"
      },
      "execution_count": 10,
      "outputs": [
        {
          "output_type": "stream",
          "name": "stdout",
          "text": [
            "3/4\n",
            "5/8\n"
          ]
        }
      ]
    },
    {
      "cell_type": "code",
      "source": [
        "#Q10. Demonstrate operator overloading by creating a class Vector and overriding the add method to add two vectors.\n",
        "\n",
        "class Vector:\n",
        "    def __init__(self, x, y):\n",
        "        self.x = x\n",
        "        self.y = y\n",
        "\n",
        "    def __add__(self, other):\n",
        "        if isinstance(other, Vector):\n",
        "            return Vector(self.x + other.x, self.y + other.y)\n",
        "        raise TypeError(\"Operands must be of type Vector\")\n",
        "\n",
        "    def __str__(self):\n",
        "        return f\"({self.x}, {self.y})\"\n",
        "# Creating vector objects\n",
        "v1 = Vector(2, 3)\n",
        "v2 = Vector(4, 5)\n",
        "\n",
        "\n",
        "result = v1 + v2\n",
        "\n",
        "print(result)\n"
      ],
      "metadata": {
        "colab": {
          "base_uri": "https://localhost:8080/"
        },
        "id": "AbtzII1V51dl",
        "outputId": "24da4943-b02b-48c2-fd45-a38fd63f27a4"
      },
      "execution_count": 12,
      "outputs": [
        {
          "output_type": "stream",
          "name": "stdout",
          "text": [
            "(6, 8)\n"
          ]
        }
      ]
    },
    {
      "cell_type": "code",
      "source": [
        "#Q11. Create a class Person with attributes name and age. Add a method greet() that prints \"Hello, my name is\n",
        "#{name} and I am {age} years old.\"\n",
        "\n",
        "class Person:\n",
        "    def __init__(self, name, age):\n",
        "        self.name = name\n",
        "        self.age = age\n",
        "\n",
        "    def greet(self):\n",
        "        print(f\"Hello, my name is {self.name} and I am {self.age} years old.\")\n",
        "\n",
        "# Creating Person objects\n",
        "p1 = Person(\"Alice\", 25)\n",
        "p2 = Person(\"Bob\", 30)\n",
        "\n",
        "# Calling the greet method\n",
        "p1.greet()\n",
        "p2.greet()\n"
      ],
      "metadata": {
        "colab": {
          "base_uri": "https://localhost:8080/"
        },
        "id": "yP5VJVJg51j2",
        "outputId": "70a61762-299f-4eb4-8ac2-a999dbf9c919"
      },
      "execution_count": 11,
      "outputs": [
        {
          "output_type": "stream",
          "name": "stdout",
          "text": [
            "Hello, my name is Alice and I am 25 years old.\n",
            "Hello, my name is Bob and I am 30 years old.\n"
          ]
        }
      ]
    },
    {
      "cell_type": "code",
      "source": [
        "#Q12. Implement a class Student with attributes name and grades. Create a method average_grade() to compute\n",
        "#the average of the grades.\n",
        "\n",
        "class Student:\n",
        "    def __init__(self, name, grades):\n",
        "        self.name = name\n",
        "        self.grades = grades\n",
        "    def average_grade(self):\n",
        "        if self.grades:\n",
        "            return sum(self.grades) / len(self.grades)\n",
        "        return 0\n",
        "\n",
        "    def __str__(self):\n",
        "        return f\"Student: {self.name}, Average Grade: {self.average_grade():.2f}\"\n",
        "\n",
        "# Creating student objects\n",
        "s1 = Student(\"Alice\", [85, 90, 78, 92])\n",
        "s2 = Student(\"Bob\", [76, 88, 95, 89, 84])\n",
        "\n",
        "# Displaying student details\n",
        "print(s1)\n",
        "print(s2)\n",
        "\n"
      ],
      "metadata": {
        "colab": {
          "base_uri": "https://localhost:8080/"
        },
        "id": "N259nX99-bTj",
        "outputId": "e4890141-0fc1-4fa9-a21d-8c4e3b6bbe57"
      },
      "execution_count": 13,
      "outputs": [
        {
          "output_type": "stream",
          "name": "stdout",
          "text": [
            "Student: Alice, Average Grade: 86.25\n",
            "Student: Bob, Average Grade: 86.40\n"
          ]
        }
      ]
    },
    {
      "cell_type": "code",
      "source": [
        "#Q13. Create a class Rectangle with methods set_dimensions() to set the dimensions and area() to calculate the\n",
        "#area.\n",
        "\n",
        "class Rectangle:\n",
        "    def __init__(self, length=1, width=1):\n",
        "        self.length = length\n",
        "        self.width = width\n",
        "\n",
        "    def set_dimensions(self, length, width):\n",
        "        if length > 0 and width > 0:\n",
        "            self.length = length\n",
        "            self.width = width\n",
        "        else:\n",
        "            print(\"Length and width must be positive values.\")\n",
        "\n",
        "    def area(self):\n",
        "        return self.length * self.width\n",
        "\n",
        "    def __str__(self):\n",
        "        return f\"Rectangle: Length={self.length}, Width={self.width}, Area={self.area()}\"\n",
        "\n",
        "# Creating a rectangle object\n",
        "rect = Rectangle()\n",
        "\n",
        "# Setting dimensions\n",
        "rect.set_dimensions(5, 10)\n",
        "\n",
        "# Displaying rectangle details\n",
        "print(rect)"
      ],
      "metadata": {
        "colab": {
          "base_uri": "https://localhost:8080/"
        },
        "id": "Ak84tyXt-cAd",
        "outputId": "adc17e26-2768-45f0-b820-19aaa5ccbf8c"
      },
      "execution_count": 14,
      "outputs": [
        {
          "output_type": "stream",
          "name": "stdout",
          "text": [
            "Rectangle: Length=5, Width=10, Area=50\n"
          ]
        }
      ]
    },
    {
      "cell_type": "code",
      "source": [
        "#Q14. Create a class Employee with a method calculate_salary() that computes the salary based on hours worked\n",
        "#and hourly rate. Create a derived class Manager that adds a bonus to the salary.\n",
        "\n",
        "class Employee:\n",
        "    def __init__(self, name, hours_worked, hourly_rate):\n",
        "        self.name = name\n",
        "        self.hours_worked = hours_worked\n",
        "        self.hourly_rate = hourly_rate\n",
        "\n",
        "    def calculate_salary(self):\n",
        "        return self.hours_worked * self.hourly_rate  # Basic salary calculation\n",
        "\n",
        "    def __str__(self):\n",
        "        return f\"Employee: {self.name}, Salary: ₹{self.calculate_salary()}\"\n",
        "\n",
        "# Derived class Manager\n",
        "class Manager(Employee):\n",
        "    def __init__(self, name, hours_worked, hourly_rate, bonus):\n",
        "        super().__init__(name, hours_worked, hourly_rate)\n",
        "        self.bonus = bonus  # Additional bonus for managers\n",
        "\n",
        "    def calculate_salary(self):\n",
        "        return super().calculate_salary() + self.bonus  # Salary + Bonus\n",
        "\n",
        "    def __str__(self):\n",
        "        return f\"Manager: {self.name}, Salary: ₹{self.calculate_salary()} (Including Bonus)\"\n",
        "\n",
        "# Creating Employee and Manager objects\n",
        "emp = Employee(\"Alice\", 40, 500)\n",
        "mgr = Manager(\"Bob\", 45, 700, 5000)\n",
        "\n",
        "# Displaying salaries\n",
        "print(emp)\n",
        "print(mgr)\n"
      ],
      "metadata": {
        "colab": {
          "base_uri": "https://localhost:8080/"
        },
        "id": "PRTbAkE2-cIM",
        "outputId": "6f8c33bd-7173-4365-f115-c4b823352d4d"
      },
      "execution_count": 15,
      "outputs": [
        {
          "output_type": "stream",
          "name": "stdout",
          "text": [
            "Employee: Alice, Salary: ₹20000\n",
            "Manager: Bob, Salary: ₹36500 (Including Bonus)\n"
          ]
        }
      ]
    },
    {
      "cell_type": "code",
      "source": [
        "#Q15. Create a class Product with attributes name, price, and quantity. Implement a method total_price() that\n",
        "#calculates the total price of the product.\n",
        "\n",
        "class Product:\n",
        "    def __init__(self, name, price, quantity):\n",
        "        self.name = name\n",
        "        self.price = price\n",
        "        self.quantity = quantity\n",
        "\n",
        "    def total_price(self):\n",
        "        return self.price * self.quantity  # Total price calculation\n",
        "\n",
        "    def __str__(self):\n",
        "        return f\"Product: {self.name}, Price: ₹{self.price}, Quantity: {self.quantity}, Total Price: ₹{self.total_price()}\"\n",
        "\n",
        "# Creating product objects\n",
        "p1 = Product(\"Laptop\", 50000, 2)\n",
        "p2 = Product(\"Phone\", 20000, 3)\n",
        "\n",
        "# Displaying product details\n",
        "print(p1)\n",
        "print(p2)"
      ],
      "metadata": {
        "colab": {
          "base_uri": "https://localhost:8080/"
        },
        "id": "jBNg2xKU-cN4",
        "outputId": "c1d5eb10-f3f6-4f82-a71c-ff006586a3a7"
      },
      "execution_count": 16,
      "outputs": [
        {
          "output_type": "stream",
          "name": "stdout",
          "text": [
            "Product: Laptop, Price: ₹50000, Quantity: 2, Total Price: ₹100000\n",
            "Product: Phone, Price: ₹20000, Quantity: 3, Total Price: ₹60000\n"
          ]
        }
      ]
    },
    {
      "cell_type": "code",
      "source": [
        "#Q16. Create a class Animal with an abstract method sound(). Create two derived classes Cow and Sheep that\n",
        "#implement the sound() method.\n",
        "\n",
        "from abc import ABC, abstractmethod\n",
        "\n",
        "# Abstract base class\n",
        "class Animal(ABC):\n",
        "    @abstractmethod\n",
        "    def sound(self):\n",
        "        pass  # Abstract method to be implemented by subclasses\n",
        "\n",
        "# Derived class Cow\n",
        "class Cow(Animal):\n",
        "    def sound(self):\n",
        "        return \"Moo!\"\n",
        "\n",
        "# Derived class Sheep\n",
        "class Sheep(Animal):\n",
        "    def sound(self):\n",
        "        return \"Baa!\"\n",
        "\n",
        "# Creating objects\n",
        "cow = Cow()\n",
        "sheep = Sheep()\n",
        "\n",
        "# Displaying sounds\n",
        "print(f\"Cow says: {cow.sound()}\")\n",
        "print(f\"Sheep says: {sheep.sound()}\")"
      ],
      "metadata": {
        "colab": {
          "base_uri": "https://localhost:8080/"
        },
        "id": "UtGeSykg-cUB",
        "outputId": "742878f8-7161-4ebe-f2d9-676d36dd899a"
      },
      "execution_count": 17,
      "outputs": [
        {
          "output_type": "stream",
          "name": "stdout",
          "text": [
            "Cow says: Moo!\n",
            "Sheep says: Baa!\n"
          ]
        }
      ]
    },
    {
      "cell_type": "code",
      "source": [
        "#Q17. Create a class Book with attributes title, author, and year_published. Add a method get_book_info() that\n",
        "#returns a formatted string with the book's details.\n",
        "\n",
        "class Book:\n",
        "    def __init__(self, title, author, year_published):\n",
        "        self.title = title\n",
        "        self.author = author\n",
        "        self.year_published = year_published\n",
        "\n",
        "    def get_book_info(self):\n",
        "        return f\"'{self.title}' by {self.author}, published in {self.year_published}.\"\n",
        "\n",
        "    def __str__(self):\n",
        "        return self.get_book_info()\n",
        "\n",
        "# Creating book objects\n",
        "book1 = Book(\"The Great Gatsby\", \"F. Scott Fitzgerald\", 1925)\n",
        "book2 = Book(\"1984\", \"George Orwell\", 1949)\n",
        "\n",
        "# Displaying book details\n",
        "print(book1.get_book_info())\n",
        "print(book2)\n"
      ],
      "metadata": {
        "colab": {
          "base_uri": "https://localhost:8080/"
        },
        "id": "ALNVQr3_-cb2",
        "outputId": "90e2dc61-02f6-4a3e-88d7-b671ae4e33e0"
      },
      "execution_count": 18,
      "outputs": [
        {
          "output_type": "stream",
          "name": "stdout",
          "text": [
            "'The Great Gatsby' by F. Scott Fitzgerald, published in 1925.\n",
            "'1984' by George Orwell, published in 1949.\n"
          ]
        }
      ]
    },
    {
      "cell_type": "code",
      "source": [
        "#Q18. Create a class House with attributes address and price. Create a derived class Mansion that adds an\n",
        "#attribute number_of_rooms.\n",
        "\n",
        "class House:\n",
        "    def __init__(self, address, price):\n",
        "        self.address = address\n",
        "        self.price = price\n",
        "\n",
        "    def __str__(self):\n",
        "        return f\"House at {self.address}, Price: ₹{self.price}\"\n",
        "\n",
        "# Derived class Mansion\n",
        "class Mansion(House):\n",
        "    def __init__(self, address, price, number_of_rooms):\n",
        "        super().__init__(address, price)\n",
        "        self.number_of_rooms = number_of_rooms\n",
        "\n",
        "    def __str__(self):\n",
        "        return f\"Mansion at {self.address}, Price: ₹{self.price}, Rooms: {self.number_of_rooms}\"\n",
        "\n",
        "# Creating House and Mansion objects\n",
        "house = House(\"123 Street, Delhi\", 5000000)\n",
        "mansion = Mansion(\"456 Avenue, Mumbai\", 20000000, 10)\n",
        "\n",
        "# Displaying details\n",
        "print(house)\n",
        "print(mansion)\n"
      ],
      "metadata": {
        "colab": {
          "base_uri": "https://localhost:8080/"
        },
        "id": "cFLDonT0-chj",
        "outputId": "9204888c-4e24-4cfd-cae5-05e880b02b05"
      },
      "execution_count": 19,
      "outputs": [
        {
          "output_type": "stream",
          "name": "stdout",
          "text": [
            "House at 123 Street, Delhi, Price: ₹5000000\n",
            "Mansion at 456 Avenue, Mumbai, Price: ₹20000000, Rooms: 10\n"
          ]
        }
      ]
    }
  ]
}